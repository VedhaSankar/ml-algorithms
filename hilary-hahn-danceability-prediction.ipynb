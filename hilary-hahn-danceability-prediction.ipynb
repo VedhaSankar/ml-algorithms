{
 "cells": [
  {
   "cell_type": "code",
   "execution_count": 1,
   "id": "5ae6afad",
   "metadata": {
    "_cell_guid": "b1076dfc-b9ad-4769-8c92-a6c4dae69d19",
    "_uuid": "8f2839f25d086af736a60e9eeb907d3b93b6e0e5",
    "execution": {
     "iopub.execute_input": "2021-08-20T14:00:47.046108Z",
     "iopub.status.busy": "2021-08-20T14:00:47.045490Z",
     "iopub.status.idle": "2021-08-20T14:00:47.062287Z",
     "shell.execute_reply": "2021-08-20T14:00:47.061270Z",
     "shell.execute_reply.started": "2021-08-20T13:59:47.526625Z"
    },
    "papermill": {
     "duration": 0.042498,
     "end_time": "2021-08-20T14:00:47.062507",
     "exception": false,
     "start_time": "2021-08-20T14:00:47.020009",
     "status": "completed"
    },
    "tags": []
   },
   "outputs": [
    {
     "name": "stdout",
     "output_type": "stream",
     "text": [
      "/kaggle/input/hilary-hahn-spotify-dataset/Hilary_Hahn.csv\n"
     ]
    }
   ],
   "source": [
    "# This Python 3 environment comes with many helpful analytics libraries installed\n",
    "# It is defined by the kaggle/python Docker image: https://github.com/kaggle/docker-python\n",
    "# For example, here's several helpful packages to load\n",
    "\n",
    "import numpy as np # linear algebra\n",
    "import pandas as pd # data processing, CSV file I/O (e.g. pd.read_csv)\n",
    "\n",
    "# Input data files are available in the read-only \"../input/\" directory\n",
    "# For example, running this (by clicking run or pressing Shift+Enter) will list all files under the input directory\n",
    "\n",
    "import os\n",
    "for dirname, _, filenames in os.walk('/kaggle/input'):\n",
    "    for filename in filenames:\n",
    "        print(os.path.join(dirname, filename))\n",
    "\n",
    "# You can write up to 20GB to the current directory (/kaggle/working/) that gets preserved as output when you create a version using \"Save & Run All\" \n",
    "# You can also write temporary files to /kaggle/temp/, but they won't be saved outside of the current session"
   ]
  },
  {
   "cell_type": "code",
   "execution_count": 2,
   "id": "18ef28ba",
   "metadata": {
    "execution": {
     "iopub.execute_input": "2021-08-20T14:00:47.095177Z",
     "iopub.status.busy": "2021-08-20T14:00:47.094539Z",
     "iopub.status.idle": "2021-08-20T14:00:47.196242Z",
     "shell.execute_reply": "2021-08-20T14:00:47.195649Z",
     "shell.execute_reply.started": "2021-08-20T13:59:47.545050Z"
    },
    "papermill": {
     "duration": 0.119349,
     "end_time": "2021-08-20T14:00:47.196386",
     "exception": false,
     "start_time": "2021-08-20T14:00:47.077037",
     "status": "completed"
    },
    "tags": []
   },
   "outputs": [],
   "source": [
    "df = pd.read_csv(\"/kaggle/input/hilary-hahn-spotify-dataset/Hilary_Hahn.csv\")"
   ]
  },
  {
   "cell_type": "code",
   "execution_count": 3,
   "id": "04ea2b82",
   "metadata": {
    "execution": {
     "iopub.execute_input": "2021-08-20T14:00:47.239161Z",
     "iopub.status.busy": "2021-08-20T14:00:47.238484Z",
     "iopub.status.idle": "2021-08-20T14:00:47.271217Z",
     "shell.execute_reply": "2021-08-20T14:00:47.271710Z",
     "shell.execute_reply.started": "2021-08-20T13:59:47.655100Z"
    },
    "papermill": {
     "duration": 0.062628,
     "end_time": "2021-08-20T14:00:47.271875",
     "exception": false,
     "start_time": "2021-08-20T14:00:47.209247",
     "status": "completed"
    },
    "tags": []
   },
   "outputs": [
    {
     "data": {
      "text/html": [
       "<div>\n",
       "<style scoped>\n",
       "    .dataframe tbody tr th:only-of-type {\n",
       "        vertical-align: middle;\n",
       "    }\n",
       "\n",
       "    .dataframe tbody tr th {\n",
       "        vertical-align: top;\n",
       "    }\n",
       "\n",
       "    .dataframe thead th {\n",
       "        text-align: right;\n",
       "    }\n",
       "</style>\n",
       "<table border=\"1\" class=\"dataframe\">\n",
       "  <thead>\n",
       "    <tr style=\"text-align: right;\">\n",
       "      <th></th>\n",
       "      <th>Unnamed: 0</th>\n",
       "      <th>album</th>\n",
       "      <th>track_number</th>\n",
       "      <th>id</th>\n",
       "      <th>name</th>\n",
       "      <th>uri</th>\n",
       "      <th>acousticness</th>\n",
       "      <th>danceability</th>\n",
       "      <th>energy</th>\n",
       "      <th>instrumentalness</th>\n",
       "      <th>liveness</th>\n",
       "      <th>loudness</th>\n",
       "      <th>speechiness</th>\n",
       "      <th>tempo</th>\n",
       "      <th>valence</th>\n",
       "      <th>popularity</th>\n",
       "    </tr>\n",
       "  </thead>\n",
       "  <tbody>\n",
       "    <tr>\n",
       "      <th>0</th>\n",
       "      <td>0</td>\n",
       "      <td>Mozart: Trio K. 496 &amp; Trio K. 442 (Completed b...</td>\n",
       "      <td>1</td>\n",
       "      <td>3IniZTntElwHHPs0Jf8JBz</td>\n",
       "      <td>Piano Trio, K. 442: I. Allegro (Completed by R...</td>\n",
       "      <td>spotify:track:3IniZTntElwHHPs0Jf8JBz</td>\n",
       "      <td>0.982</td>\n",
       "      <td>0.354</td>\n",
       "      <td>0.1130</td>\n",
       "      <td>0.021700</td>\n",
       "      <td>0.0811</td>\n",
       "      <td>-19.401</td>\n",
       "      <td>0.0398</td>\n",
       "      <td>129.568</td>\n",
       "      <td>0.334</td>\n",
       "      <td>17</td>\n",
       "    </tr>\n",
       "    <tr>\n",
       "      <th>1</th>\n",
       "      <td>1</td>\n",
       "      <td>Mozart: Trio K. 496 &amp; Trio K. 442 (Completed b...</td>\n",
       "      <td>2</td>\n",
       "      <td>72at5HqsvGZSOON2jQZqEQ</td>\n",
       "      <td>Piano Trio, K. 442: II. Tempo di Menuetto (Com...</td>\n",
       "      <td>spotify:track:72at5HqsvGZSOON2jQZqEQ</td>\n",
       "      <td>0.988</td>\n",
       "      <td>0.360</td>\n",
       "      <td>0.0684</td>\n",
       "      <td>0.058800</td>\n",
       "      <td>0.1290</td>\n",
       "      <td>-21.813</td>\n",
       "      <td>0.0416</td>\n",
       "      <td>111.803</td>\n",
       "      <td>0.419</td>\n",
       "      <td>15</td>\n",
       "    </tr>\n",
       "    <tr>\n",
       "      <th>2</th>\n",
       "      <td>2</td>\n",
       "      <td>Mozart: Trio K. 496 &amp; Trio K. 442 (Completed b...</td>\n",
       "      <td>3</td>\n",
       "      <td>7aMKkr402WOQdrmsWphVRM</td>\n",
       "      <td>Piano Trio, K. 442: III. Allegro (Completed by...</td>\n",
       "      <td>spotify:track:7aMKkr402WOQdrmsWphVRM</td>\n",
       "      <td>0.983</td>\n",
       "      <td>0.417</td>\n",
       "      <td>0.1400</td>\n",
       "      <td>0.021900</td>\n",
       "      <td>0.1110</td>\n",
       "      <td>-17.409</td>\n",
       "      <td>0.0390</td>\n",
       "      <td>125.022</td>\n",
       "      <td>0.567</td>\n",
       "      <td>15</td>\n",
       "    </tr>\n",
       "    <tr>\n",
       "      <th>3</th>\n",
       "      <td>3</td>\n",
       "      <td>Mozart: Trio K. 496 &amp; Trio K. 442 (Completed b...</td>\n",
       "      <td>4</td>\n",
       "      <td>49160XUV2Q3Ij9lLZbmUua</td>\n",
       "      <td>Piano Trio, K. 496: I. Allegro</td>\n",
       "      <td>spotify:track:49160XUV2Q3Ij9lLZbmUua</td>\n",
       "      <td>0.981</td>\n",
       "      <td>0.403</td>\n",
       "      <td>0.1070</td>\n",
       "      <td>0.051900</td>\n",
       "      <td>0.2090</td>\n",
       "      <td>-20.608</td>\n",
       "      <td>0.0394</td>\n",
       "      <td>126.419</td>\n",
       "      <td>0.414</td>\n",
       "      <td>14</td>\n",
       "    </tr>\n",
       "    <tr>\n",
       "      <th>4</th>\n",
       "      <td>4</td>\n",
       "      <td>Mozart: Trio K. 496 &amp; Trio K. 442 (Completed b...</td>\n",
       "      <td>5</td>\n",
       "      <td>7syI9SwZpLMPLJcJUJUtu0</td>\n",
       "      <td>Piano Trio, K. 496: II. Andante</td>\n",
       "      <td>spotify:track:7syI9SwZpLMPLJcJUJUtu0</td>\n",
       "      <td>0.984</td>\n",
       "      <td>0.310</td>\n",
       "      <td>0.0560</td>\n",
       "      <td>0.039900</td>\n",
       "      <td>0.2150</td>\n",
       "      <td>-23.229</td>\n",
       "      <td>0.0447</td>\n",
       "      <td>109.030</td>\n",
       "      <td>0.327</td>\n",
       "      <td>14</td>\n",
       "    </tr>\n",
       "    <tr>\n",
       "      <th>...</th>\n",
       "      <td>...</td>\n",
       "      <td>...</td>\n",
       "      <td>...</td>\n",
       "      <td>...</td>\n",
       "      <td>...</td>\n",
       "      <td>...</td>\n",
       "      <td>...</td>\n",
       "      <td>...</td>\n",
       "      <td>...</td>\n",
       "      <td>...</td>\n",
       "      <td>...</td>\n",
       "      <td>...</td>\n",
       "      <td>...</td>\n",
       "      <td>...</td>\n",
       "      <td>...</td>\n",
       "      <td>...</td>\n",
       "    </tr>\n",
       "    <tr>\n",
       "      <th>180</th>\n",
       "      <td>252</td>\n",
       "      <td>Mozart: Trio K. 496 &amp; Trio K. 442 (Completed b...</td>\n",
       "      <td>8</td>\n",
       "      <td>3ND8iufN4EBZRTTUWQmjpu</td>\n",
       "      <td>_: Mozart: Violin Sonata in A K526 - 1. Allegr...</td>\n",
       "      <td>spotify:track:3ND8iufN4EBZRTTUWQmjpu</td>\n",
       "      <td>0.970</td>\n",
       "      <td>0.421</td>\n",
       "      <td>0.1830</td>\n",
       "      <td>0.002780</td>\n",
       "      <td>0.1080</td>\n",
       "      <td>-21.045</td>\n",
       "      <td>0.0347</td>\n",
       "      <td>149.819</td>\n",
       "      <td>0.717</td>\n",
       "      <td>5</td>\n",
       "    </tr>\n",
       "    <tr>\n",
       "      <th>181</th>\n",
       "      <td>253</td>\n",
       "      <td>Mozart: Trio K. 496 &amp; Trio K. 442 (Completed b...</td>\n",
       "      <td>9</td>\n",
       "      <td>2PPu5CHylyW8Mazlmsh0nE</td>\n",
       "      <td>_: Mozart: Violin Sonata in A K526 - 2. Andante</td>\n",
       "      <td>spotify:track:2PPu5CHylyW8Mazlmsh0nE</td>\n",
       "      <td>0.963</td>\n",
       "      <td>0.238</td>\n",
       "      <td>0.0403</td>\n",
       "      <td>0.004620</td>\n",
       "      <td>0.0855</td>\n",
       "      <td>-27.898</td>\n",
       "      <td>0.0382</td>\n",
       "      <td>101.484</td>\n",
       "      <td>0.126</td>\n",
       "      <td>5</td>\n",
       "    </tr>\n",
       "    <tr>\n",
       "      <th>182</th>\n",
       "      <td>254</td>\n",
       "      <td>Mozart: Trio K. 496 &amp; Trio K. 442 (Completed b...</td>\n",
       "      <td>10</td>\n",
       "      <td>2yHQCl43aHdTtssqv2mhea</td>\n",
       "      <td>_: Mozart: Violin Sonata in A K526 - 3. Presto</td>\n",
       "      <td>spotify:track:2yHQCl43aHdTtssqv2mhea</td>\n",
       "      <td>0.967</td>\n",
       "      <td>0.414</td>\n",
       "      <td>0.2610</td>\n",
       "      <td>0.072900</td>\n",
       "      <td>0.1150</td>\n",
       "      <td>-19.797</td>\n",
       "      <td>0.0312</td>\n",
       "      <td>135.844</td>\n",
       "      <td>0.760</td>\n",
       "      <td>4</td>\n",
       "    </tr>\n",
       "    <tr>\n",
       "      <th>183</th>\n",
       "      <td>255</td>\n",
       "      <td>Mozart: Trio K. 496 &amp; Trio K. 442 (Completed b...</td>\n",
       "      <td>11</td>\n",
       "      <td>3WeQUb9g910nrxT9o6EvCd</td>\n",
       "      <td>Hilary Hahn talks about the Mozart Violin Sona...</td>\n",
       "      <td>spotify:track:3WeQUb9g910nrxT9o6EvCd</td>\n",
       "      <td>0.660</td>\n",
       "      <td>0.715</td>\n",
       "      <td>0.0972</td>\n",
       "      <td>0.000000</td>\n",
       "      <td>0.2430</td>\n",
       "      <td>-30.359</td>\n",
       "      <td>0.9320</td>\n",
       "      <td>119.879</td>\n",
       "      <td>0.425</td>\n",
       "      <td>4</td>\n",
       "    </tr>\n",
       "    <tr>\n",
       "      <th>184</th>\n",
       "      <td>256</td>\n",
       "      <td>Mozart: Trio K. 496 &amp; Trio K. 442 (Completed b...</td>\n",
       "      <td>12</td>\n",
       "      <td>5R556ktCV2Q5BYdslkHM0A</td>\n",
       "      <td>Hilary Hahn talks about the Mozart Violin Sona...</td>\n",
       "      <td>spotify:track:5R556ktCV2Q5BYdslkHM0A</td>\n",
       "      <td>0.873</td>\n",
       "      <td>0.587</td>\n",
       "      <td>0.0812</td>\n",
       "      <td>0.000002</td>\n",
       "      <td>0.1130</td>\n",
       "      <td>-26.211</td>\n",
       "      <td>0.5310</td>\n",
       "      <td>69.466</td>\n",
       "      <td>0.366</td>\n",
       "      <td>5</td>\n",
       "    </tr>\n",
       "  </tbody>\n",
       "</table>\n",
       "<p>185 rows × 16 columns</p>\n",
       "</div>"
      ],
      "text/plain": [
       "     Unnamed: 0                                              album  \\\n",
       "0             0  Mozart: Trio K. 496 & Trio K. 442 (Completed b...   \n",
       "1             1  Mozart: Trio K. 496 & Trio K. 442 (Completed b...   \n",
       "2             2  Mozart: Trio K. 496 & Trio K. 442 (Completed b...   \n",
       "3             3  Mozart: Trio K. 496 & Trio K. 442 (Completed b...   \n",
       "4             4  Mozart: Trio K. 496 & Trio K. 442 (Completed b...   \n",
       "..          ...                                                ...   \n",
       "180         252  Mozart: Trio K. 496 & Trio K. 442 (Completed b...   \n",
       "181         253  Mozart: Trio K. 496 & Trio K. 442 (Completed b...   \n",
       "182         254  Mozart: Trio K. 496 & Trio K. 442 (Completed b...   \n",
       "183         255  Mozart: Trio K. 496 & Trio K. 442 (Completed b...   \n",
       "184         256  Mozart: Trio K. 496 & Trio K. 442 (Completed b...   \n",
       "\n",
       "     track_number                      id  \\\n",
       "0               1  3IniZTntElwHHPs0Jf8JBz   \n",
       "1               2  72at5HqsvGZSOON2jQZqEQ   \n",
       "2               3  7aMKkr402WOQdrmsWphVRM   \n",
       "3               4  49160XUV2Q3Ij9lLZbmUua   \n",
       "4               5  7syI9SwZpLMPLJcJUJUtu0   \n",
       "..            ...                     ...   \n",
       "180             8  3ND8iufN4EBZRTTUWQmjpu   \n",
       "181             9  2PPu5CHylyW8Mazlmsh0nE   \n",
       "182            10  2yHQCl43aHdTtssqv2mhea   \n",
       "183            11  3WeQUb9g910nrxT9o6EvCd   \n",
       "184            12  5R556ktCV2Q5BYdslkHM0A   \n",
       "\n",
       "                                                  name  \\\n",
       "0    Piano Trio, K. 442: I. Allegro (Completed by R...   \n",
       "1    Piano Trio, K. 442: II. Tempo di Menuetto (Com...   \n",
       "2    Piano Trio, K. 442: III. Allegro (Completed by...   \n",
       "3                       Piano Trio, K. 496: I. Allegro   \n",
       "4                      Piano Trio, K. 496: II. Andante   \n",
       "..                                                 ...   \n",
       "180  _: Mozart: Violin Sonata in A K526 - 1. Allegr...   \n",
       "181    _: Mozart: Violin Sonata in A K526 - 2. Andante   \n",
       "182     _: Mozart: Violin Sonata in A K526 - 3. Presto   \n",
       "183  Hilary Hahn talks about the Mozart Violin Sona...   \n",
       "184  Hilary Hahn talks about the Mozart Violin Sona...   \n",
       "\n",
       "                                      uri  acousticness  danceability  energy  \\\n",
       "0    spotify:track:3IniZTntElwHHPs0Jf8JBz         0.982         0.354  0.1130   \n",
       "1    spotify:track:72at5HqsvGZSOON2jQZqEQ         0.988         0.360  0.0684   \n",
       "2    spotify:track:7aMKkr402WOQdrmsWphVRM         0.983         0.417  0.1400   \n",
       "3    spotify:track:49160XUV2Q3Ij9lLZbmUua         0.981         0.403  0.1070   \n",
       "4    spotify:track:7syI9SwZpLMPLJcJUJUtu0         0.984         0.310  0.0560   \n",
       "..                                    ...           ...           ...     ...   \n",
       "180  spotify:track:3ND8iufN4EBZRTTUWQmjpu         0.970         0.421  0.1830   \n",
       "181  spotify:track:2PPu5CHylyW8Mazlmsh0nE         0.963         0.238  0.0403   \n",
       "182  spotify:track:2yHQCl43aHdTtssqv2mhea         0.967         0.414  0.2610   \n",
       "183  spotify:track:3WeQUb9g910nrxT9o6EvCd         0.660         0.715  0.0972   \n",
       "184  spotify:track:5R556ktCV2Q5BYdslkHM0A         0.873         0.587  0.0812   \n",
       "\n",
       "     instrumentalness  liveness  loudness  speechiness    tempo  valence  \\\n",
       "0            0.021700    0.0811   -19.401       0.0398  129.568    0.334   \n",
       "1            0.058800    0.1290   -21.813       0.0416  111.803    0.419   \n",
       "2            0.021900    0.1110   -17.409       0.0390  125.022    0.567   \n",
       "3            0.051900    0.2090   -20.608       0.0394  126.419    0.414   \n",
       "4            0.039900    0.2150   -23.229       0.0447  109.030    0.327   \n",
       "..                ...       ...       ...          ...      ...      ...   \n",
       "180          0.002780    0.1080   -21.045       0.0347  149.819    0.717   \n",
       "181          0.004620    0.0855   -27.898       0.0382  101.484    0.126   \n",
       "182          0.072900    0.1150   -19.797       0.0312  135.844    0.760   \n",
       "183          0.000000    0.2430   -30.359       0.9320  119.879    0.425   \n",
       "184          0.000002    0.1130   -26.211       0.5310   69.466    0.366   \n",
       "\n",
       "     popularity  \n",
       "0            17  \n",
       "1            15  \n",
       "2            15  \n",
       "3            14  \n",
       "4            14  \n",
       "..          ...  \n",
       "180           5  \n",
       "181           5  \n",
       "182           4  \n",
       "183           4  \n",
       "184           5  \n",
       "\n",
       "[185 rows x 16 columns]"
      ]
     },
     "execution_count": 3,
     "metadata": {},
     "output_type": "execute_result"
    }
   ],
   "source": [
    "df"
   ]
  },
  {
   "cell_type": "code",
   "execution_count": 4,
   "id": "fabbbd59",
   "metadata": {
    "execution": {
     "iopub.execute_input": "2021-08-20T14:00:47.328028Z",
     "iopub.status.busy": "2021-08-20T14:00:47.327313Z",
     "iopub.status.idle": "2021-08-20T14:00:47.331861Z",
     "shell.execute_reply": "2021-08-20T14:00:47.331254Z",
     "shell.execute_reply.started": "2021-08-20T13:59:47.705824Z"
    },
    "papermill": {
     "duration": 0.046382,
     "end_time": "2021-08-20T14:00:47.332005",
     "exception": false,
     "start_time": "2021-08-20T14:00:47.285623",
     "status": "completed"
    },
    "tags": []
   },
   "outputs": [
    {
     "name": "stdout",
     "output_type": "stream",
     "text": [
      "<class 'pandas.core.frame.DataFrame'>\n",
      "RangeIndex: 185 entries, 0 to 184\n",
      "Data columns (total 16 columns):\n",
      " #   Column            Non-Null Count  Dtype  \n",
      "---  ------            --------------  -----  \n",
      " 0   Unnamed: 0        185 non-null    int64  \n",
      " 1   album             185 non-null    object \n",
      " 2   track_number      185 non-null    int64  \n",
      " 3   id                185 non-null    object \n",
      " 4   name              185 non-null    object \n",
      " 5   uri               185 non-null    object \n",
      " 6   acousticness      185 non-null    float64\n",
      " 7   danceability      185 non-null    float64\n",
      " 8   energy            185 non-null    float64\n",
      " 9   instrumentalness  185 non-null    float64\n",
      " 10  liveness          185 non-null    float64\n",
      " 11  loudness          185 non-null    float64\n",
      " 12  speechiness       185 non-null    float64\n",
      " 13  tempo             185 non-null    float64\n",
      " 14  valence           185 non-null    float64\n",
      " 15  popularity        185 non-null    int64  \n",
      "dtypes: float64(9), int64(3), object(4)\n",
      "memory usage: 23.2+ KB\n"
     ]
    }
   ],
   "source": [
    "df.info()"
   ]
  },
  {
   "cell_type": "code",
   "execution_count": 5,
   "id": "fabd057c",
   "metadata": {
    "execution": {
     "iopub.execute_input": "2021-08-20T14:00:47.377144Z",
     "iopub.status.busy": "2021-08-20T14:00:47.376487Z",
     "iopub.status.idle": "2021-08-20T14:00:47.378513Z",
     "shell.execute_reply": "2021-08-20T14:00:47.379013Z",
     "shell.execute_reply.started": "2021-08-20T13:59:47.731818Z"
    },
    "papermill": {
     "duration": 0.027246,
     "end_time": "2021-08-20T14:00:47.379179",
     "exception": false,
     "start_time": "2021-08-20T14:00:47.351933",
     "status": "completed"
    },
    "tags": []
   },
   "outputs": [],
   "source": [
    "df.drop(['track_number', 'album', \"id\", \"name\", \"uri\"], inplace = True, axis = 1)"
   ]
  },
  {
   "cell_type": "code",
   "execution_count": 6,
   "id": "505151c2",
   "metadata": {
    "execution": {
     "iopub.execute_input": "2021-08-20T14:00:47.420043Z",
     "iopub.status.busy": "2021-08-20T14:00:47.419407Z",
     "iopub.status.idle": "2021-08-20T14:00:47.423961Z",
     "shell.execute_reply": "2021-08-20T14:00:47.424551Z",
     "shell.execute_reply.started": "2021-08-20T13:59:47.747784Z"
    },
    "papermill": {
     "duration": 0.024057,
     "end_time": "2021-08-20T14:00:47.424795",
     "exception": false,
     "start_time": "2021-08-20T14:00:47.400738",
     "status": "completed"
    },
    "tags": []
   },
   "outputs": [],
   "source": [
    "del df['Unnamed: 0']"
   ]
  },
  {
   "cell_type": "code",
   "execution_count": 7,
   "id": "f71e9831",
   "metadata": {
    "execution": {
     "iopub.execute_input": "2021-08-20T14:00:47.458574Z",
     "iopub.status.busy": "2021-08-20T14:00:47.457928Z",
     "iopub.status.idle": "2021-08-20T14:00:47.479738Z",
     "shell.execute_reply": "2021-08-20T14:00:47.480281Z",
     "shell.execute_reply.started": "2021-08-20T13:59:47.758956Z"
    },
    "papermill": {
     "duration": 0.039954,
     "end_time": "2021-08-20T14:00:47.480458",
     "exception": false,
     "start_time": "2021-08-20T14:00:47.440504",
     "status": "completed"
    },
    "tags": []
   },
   "outputs": [
    {
     "data": {
      "text/html": [
       "<div>\n",
       "<style scoped>\n",
       "    .dataframe tbody tr th:only-of-type {\n",
       "        vertical-align: middle;\n",
       "    }\n",
       "\n",
       "    .dataframe tbody tr th {\n",
       "        vertical-align: top;\n",
       "    }\n",
       "\n",
       "    .dataframe thead th {\n",
       "        text-align: right;\n",
       "    }\n",
       "</style>\n",
       "<table border=\"1\" class=\"dataframe\">\n",
       "  <thead>\n",
       "    <tr style=\"text-align: right;\">\n",
       "      <th></th>\n",
       "      <th>acousticness</th>\n",
       "      <th>danceability</th>\n",
       "      <th>energy</th>\n",
       "      <th>instrumentalness</th>\n",
       "      <th>liveness</th>\n",
       "      <th>loudness</th>\n",
       "      <th>speechiness</th>\n",
       "      <th>tempo</th>\n",
       "      <th>valence</th>\n",
       "      <th>popularity</th>\n",
       "    </tr>\n",
       "  </thead>\n",
       "  <tbody>\n",
       "    <tr>\n",
       "      <th>0</th>\n",
       "      <td>0.982</td>\n",
       "      <td>0.354</td>\n",
       "      <td>0.1130</td>\n",
       "      <td>0.021700</td>\n",
       "      <td>0.0811</td>\n",
       "      <td>-19.401</td>\n",
       "      <td>0.0398</td>\n",
       "      <td>129.568</td>\n",
       "      <td>0.334</td>\n",
       "      <td>17</td>\n",
       "    </tr>\n",
       "    <tr>\n",
       "      <th>1</th>\n",
       "      <td>0.988</td>\n",
       "      <td>0.360</td>\n",
       "      <td>0.0684</td>\n",
       "      <td>0.058800</td>\n",
       "      <td>0.1290</td>\n",
       "      <td>-21.813</td>\n",
       "      <td>0.0416</td>\n",
       "      <td>111.803</td>\n",
       "      <td>0.419</td>\n",
       "      <td>15</td>\n",
       "    </tr>\n",
       "    <tr>\n",
       "      <th>2</th>\n",
       "      <td>0.983</td>\n",
       "      <td>0.417</td>\n",
       "      <td>0.1400</td>\n",
       "      <td>0.021900</td>\n",
       "      <td>0.1110</td>\n",
       "      <td>-17.409</td>\n",
       "      <td>0.0390</td>\n",
       "      <td>125.022</td>\n",
       "      <td>0.567</td>\n",
       "      <td>15</td>\n",
       "    </tr>\n",
       "    <tr>\n",
       "      <th>3</th>\n",
       "      <td>0.981</td>\n",
       "      <td>0.403</td>\n",
       "      <td>0.1070</td>\n",
       "      <td>0.051900</td>\n",
       "      <td>0.2090</td>\n",
       "      <td>-20.608</td>\n",
       "      <td>0.0394</td>\n",
       "      <td>126.419</td>\n",
       "      <td>0.414</td>\n",
       "      <td>14</td>\n",
       "    </tr>\n",
       "    <tr>\n",
       "      <th>4</th>\n",
       "      <td>0.984</td>\n",
       "      <td>0.310</td>\n",
       "      <td>0.0560</td>\n",
       "      <td>0.039900</td>\n",
       "      <td>0.2150</td>\n",
       "      <td>-23.229</td>\n",
       "      <td>0.0447</td>\n",
       "      <td>109.030</td>\n",
       "      <td>0.327</td>\n",
       "      <td>14</td>\n",
       "    </tr>\n",
       "    <tr>\n",
       "      <th>...</th>\n",
       "      <td>...</td>\n",
       "      <td>...</td>\n",
       "      <td>...</td>\n",
       "      <td>...</td>\n",
       "      <td>...</td>\n",
       "      <td>...</td>\n",
       "      <td>...</td>\n",
       "      <td>...</td>\n",
       "      <td>...</td>\n",
       "      <td>...</td>\n",
       "    </tr>\n",
       "    <tr>\n",
       "      <th>180</th>\n",
       "      <td>0.970</td>\n",
       "      <td>0.421</td>\n",
       "      <td>0.1830</td>\n",
       "      <td>0.002780</td>\n",
       "      <td>0.1080</td>\n",
       "      <td>-21.045</td>\n",
       "      <td>0.0347</td>\n",
       "      <td>149.819</td>\n",
       "      <td>0.717</td>\n",
       "      <td>5</td>\n",
       "    </tr>\n",
       "    <tr>\n",
       "      <th>181</th>\n",
       "      <td>0.963</td>\n",
       "      <td>0.238</td>\n",
       "      <td>0.0403</td>\n",
       "      <td>0.004620</td>\n",
       "      <td>0.0855</td>\n",
       "      <td>-27.898</td>\n",
       "      <td>0.0382</td>\n",
       "      <td>101.484</td>\n",
       "      <td>0.126</td>\n",
       "      <td>5</td>\n",
       "    </tr>\n",
       "    <tr>\n",
       "      <th>182</th>\n",
       "      <td>0.967</td>\n",
       "      <td>0.414</td>\n",
       "      <td>0.2610</td>\n",
       "      <td>0.072900</td>\n",
       "      <td>0.1150</td>\n",
       "      <td>-19.797</td>\n",
       "      <td>0.0312</td>\n",
       "      <td>135.844</td>\n",
       "      <td>0.760</td>\n",
       "      <td>4</td>\n",
       "    </tr>\n",
       "    <tr>\n",
       "      <th>183</th>\n",
       "      <td>0.660</td>\n",
       "      <td>0.715</td>\n",
       "      <td>0.0972</td>\n",
       "      <td>0.000000</td>\n",
       "      <td>0.2430</td>\n",
       "      <td>-30.359</td>\n",
       "      <td>0.9320</td>\n",
       "      <td>119.879</td>\n",
       "      <td>0.425</td>\n",
       "      <td>4</td>\n",
       "    </tr>\n",
       "    <tr>\n",
       "      <th>184</th>\n",
       "      <td>0.873</td>\n",
       "      <td>0.587</td>\n",
       "      <td>0.0812</td>\n",
       "      <td>0.000002</td>\n",
       "      <td>0.1130</td>\n",
       "      <td>-26.211</td>\n",
       "      <td>0.5310</td>\n",
       "      <td>69.466</td>\n",
       "      <td>0.366</td>\n",
       "      <td>5</td>\n",
       "    </tr>\n",
       "  </tbody>\n",
       "</table>\n",
       "<p>185 rows × 10 columns</p>\n",
       "</div>"
      ],
      "text/plain": [
       "     acousticness  danceability  energy  instrumentalness  liveness  loudness  \\\n",
       "0           0.982         0.354  0.1130          0.021700    0.0811   -19.401   \n",
       "1           0.988         0.360  0.0684          0.058800    0.1290   -21.813   \n",
       "2           0.983         0.417  0.1400          0.021900    0.1110   -17.409   \n",
       "3           0.981         0.403  0.1070          0.051900    0.2090   -20.608   \n",
       "4           0.984         0.310  0.0560          0.039900    0.2150   -23.229   \n",
       "..            ...           ...     ...               ...       ...       ...   \n",
       "180         0.970         0.421  0.1830          0.002780    0.1080   -21.045   \n",
       "181         0.963         0.238  0.0403          0.004620    0.0855   -27.898   \n",
       "182         0.967         0.414  0.2610          0.072900    0.1150   -19.797   \n",
       "183         0.660         0.715  0.0972          0.000000    0.2430   -30.359   \n",
       "184         0.873         0.587  0.0812          0.000002    0.1130   -26.211   \n",
       "\n",
       "     speechiness    tempo  valence  popularity  \n",
       "0         0.0398  129.568    0.334          17  \n",
       "1         0.0416  111.803    0.419          15  \n",
       "2         0.0390  125.022    0.567          15  \n",
       "3         0.0394  126.419    0.414          14  \n",
       "4         0.0447  109.030    0.327          14  \n",
       "..           ...      ...      ...         ...  \n",
       "180       0.0347  149.819    0.717           5  \n",
       "181       0.0382  101.484    0.126           5  \n",
       "182       0.0312  135.844    0.760           4  \n",
       "183       0.9320  119.879    0.425           4  \n",
       "184       0.5310   69.466    0.366           5  \n",
       "\n",
       "[185 rows x 10 columns]"
      ]
     },
     "execution_count": 7,
     "metadata": {},
     "output_type": "execute_result"
    }
   ],
   "source": [
    "df"
   ]
  },
  {
   "cell_type": "code",
   "execution_count": 8,
   "id": "46ec76e3",
   "metadata": {
    "execution": {
     "iopub.execute_input": "2021-08-20T14:00:47.512908Z",
     "iopub.status.busy": "2021-08-20T14:00:47.512287Z",
     "iopub.status.idle": "2021-08-20T14:00:47.519390Z",
     "shell.execute_reply": "2021-08-20T14:00:47.519902Z",
     "shell.execute_reply.started": "2021-08-20T13:59:47.803942Z"
    },
    "papermill": {
     "duration": 0.025038,
     "end_time": "2021-08-20T14:00:47.520068",
     "exception": false,
     "start_time": "2021-08-20T14:00:47.495030",
     "status": "completed"
    },
    "tags": []
   },
   "outputs": [
    {
     "data": {
      "text/plain": [
       "acousticness        0\n",
       "danceability        0\n",
       "energy              0\n",
       "instrumentalness    0\n",
       "liveness            0\n",
       "loudness            0\n",
       "speechiness         0\n",
       "tempo               0\n",
       "valence             0\n",
       "popularity          0\n",
       "dtype: int64"
      ]
     },
     "execution_count": 8,
     "metadata": {},
     "output_type": "execute_result"
    }
   ],
   "source": [
    "df.isna().sum()"
   ]
  },
  {
   "cell_type": "code",
   "execution_count": 9,
   "id": "db275c69",
   "metadata": {
    "execution": {
     "iopub.execute_input": "2021-08-20T14:00:47.553151Z",
     "iopub.status.busy": "2021-08-20T14:00:47.552546Z",
     "iopub.status.idle": "2021-08-20T14:00:48.504924Z",
     "shell.execute_reply": "2021-08-20T14:00:48.503781Z",
     "shell.execute_reply.started": "2021-08-20T13:59:47.817015Z"
    },
    "papermill": {
     "duration": 0.969945,
     "end_time": "2021-08-20T14:00:48.505072",
     "exception": false,
     "start_time": "2021-08-20T14:00:47.535127",
     "status": "completed"
    },
    "tags": []
   },
   "outputs": [],
   "source": [
    "import time\n",
    "from sklearn.model_selection import train_test_split\n",
    "from sklearn.naive_bayes import GaussianNB, BernoulliNB, MultinomialNB"
   ]
  },
  {
   "cell_type": "code",
   "execution_count": 10,
   "id": "b57a368d",
   "metadata": {
    "execution": {
     "iopub.execute_input": "2021-08-20T14:00:48.540311Z",
     "iopub.status.busy": "2021-08-20T14:00:48.539302Z",
     "iopub.status.idle": "2021-08-20T14:00:48.542526Z",
     "shell.execute_reply": "2021-08-20T14:00:48.541875Z",
     "shell.execute_reply.started": "2021-08-20T13:59:48.865190Z"
    },
    "papermill": {
     "duration": 0.022311,
     "end_time": "2021-08-20T14:00:48.542665",
     "exception": false,
     "start_time": "2021-08-20T14:00:48.520354",
     "status": "completed"
    },
    "tags": []
   },
   "outputs": [],
   "source": [
    "gnb = GaussianNB()"
   ]
  },
  {
   "cell_type": "code",
   "execution_count": 11,
   "id": "7d648440",
   "metadata": {
    "execution": {
     "iopub.execute_input": "2021-08-20T14:00:48.581051Z",
     "iopub.status.busy": "2021-08-20T14:00:48.577950Z",
     "iopub.status.idle": "2021-08-20T14:00:48.584365Z",
     "shell.execute_reply": "2021-08-20T14:00:48.583826Z",
     "shell.execute_reply.started": "2021-08-20T13:59:48.871188Z"
    },
    "papermill": {
     "duration": 0.026722,
     "end_time": "2021-08-20T14:00:48.584507",
     "exception": false,
     "start_time": "2021-08-20T14:00:48.557785",
     "status": "completed"
    },
    "tags": []
   },
   "outputs": [],
   "source": [
    "X_train, X_test = train_test_split(df, test_size=0.2, random_state=int(time.time()))"
   ]
  },
  {
   "cell_type": "code",
   "execution_count": 12,
   "id": "e382d92b",
   "metadata": {
    "execution": {
     "iopub.execute_input": "2021-08-20T14:00:48.620551Z",
     "iopub.status.busy": "2021-08-20T14:00:48.619839Z",
     "iopub.status.idle": "2021-08-20T14:00:48.624311Z",
     "shell.execute_reply": "2021-08-20T14:00:48.623655Z",
     "shell.execute_reply.started": "2021-08-20T13:59:48.888020Z"
    },
    "papermill": {
     "duration": 0.02493,
     "end_time": "2021-08-20T14:00:48.624460",
     "exception": false,
     "start_time": "2021-08-20T14:00:48.599530",
     "status": "completed"
    },
    "tags": []
   },
   "outputs": [
    {
     "data": {
      "text/plain": [
       "Index(['acousticness', 'danceability', 'energy', 'instrumentalness',\n",
       "       'liveness', 'loudness', 'speechiness', 'tempo', 'valence',\n",
       "       'popularity'],\n",
       "      dtype='object')"
      ]
     },
     "execution_count": 12,
     "metadata": {},
     "output_type": "execute_result"
    }
   ],
   "source": [
    "df.columns"
   ]
  },
  {
   "cell_type": "code",
   "execution_count": 13,
   "id": "65621686",
   "metadata": {
    "execution": {
     "iopub.execute_input": "2021-08-20T14:00:48.664485Z",
     "iopub.status.busy": "2021-08-20T14:00:48.663751Z",
     "iopub.status.idle": "2021-08-20T14:00:48.670032Z",
     "shell.execute_reply": "2021-08-20T14:00:48.669490Z",
     "shell.execute_reply.started": "2021-08-20T13:59:48.902081Z"
    },
    "papermill": {
     "duration": 0.0303,
     "end_time": "2021-08-20T14:00:48.670169",
     "exception": false,
     "start_time": "2021-08-20T14:00:48.639869",
     "status": "completed"
    },
    "tags": []
   },
   "outputs": [
    {
     "data": {
      "text/plain": [
       "GaussianNB()"
      ]
     },
     "execution_count": 13,
     "metadata": {},
     "output_type": "execute_result"
    }
   ],
   "source": [
    "used_features =[\n",
    "    \"acousticness\",\n",
    "    \"energy\",\n",
    "    \"instrumentalness\",\n",
    "    \"liveness\",\n",
    "    \"loudness\",\n",
    "    \"speechiness\",\n",
    "    \"tempo\",\n",
    "    \"valence\",\n",
    "    \"popularity\"\n",
    "]\n",
    "\n",
    "x_val = X_train[used_features].values\n",
    "y_val = X_train[\"danceability\"].astype(int)\n",
    "\n",
    "# print (type (x_val))\n",
    "# print (type (y_val))\n",
    "gnb.fit(x_val, y_val)\n",
    "\n",
    "\n",
    "# y_pred = gnb.predict(X_test[used_features])"
   ]
  },
  {
   "cell_type": "code",
   "execution_count": 14,
   "id": "dec023d3",
   "metadata": {
    "execution": {
     "iopub.execute_input": "2021-08-20T14:00:48.708468Z",
     "iopub.status.busy": "2021-08-20T14:00:48.707490Z",
     "iopub.status.idle": "2021-08-20T14:00:48.712253Z",
     "shell.execute_reply": "2021-08-20T14:00:48.711599Z",
     "shell.execute_reply.started": "2021-08-20T14:00:00.433230Z"
    },
    "papermill": {
     "duration": 0.026545,
     "end_time": "2021-08-20T14:00:48.712411",
     "exception": false,
     "start_time": "2021-08-20T14:00:48.685866",
     "status": "completed"
    },
    "tags": []
   },
   "outputs": [
    {
     "data": {
      "text/plain": [
       "1.0"
      ]
     },
     "execution_count": 14,
     "metadata": {},
     "output_type": "execute_result"
    }
   ],
   "source": [
    "gnb.score(x_val, y_val)"
   ]
  }
 ],
 "metadata": {
  "kernelspec": {
   "display_name": "Python 3",
   "language": "python",
   "name": "python3"
  },
  "language_info": {
   "codemirror_mode": {
    "name": "ipython",
    "version": 3
   },
   "file_extension": ".py",
   "mimetype": "text/x-python",
   "name": "python",
   "nbconvert_exporter": "python",
   "pygments_lexer": "ipython3",
   "version": "3.7.10"
  },
  "papermill": {
   "default_parameters": {},
   "duration": 10.62534,
   "end_time": "2021-08-20T14:00:49.438868",
   "environment_variables": {},
   "exception": null,
   "input_path": "__notebook__.ipynb",
   "output_path": "__notebook__.ipynb",
   "parameters": {},
   "start_time": "2021-08-20T14:00:38.813528",
   "version": "2.3.3"
  }
 },
 "nbformat": 4,
 "nbformat_minor": 5
}
